{
 "cells": [
  {
   "cell_type": "markdown",
   "metadata": {},
   "source": [
    "# Fundamentos de Python / Python Fundamentals"
   ]
  },
  {
   "cell_type": "markdown",
   "metadata": {},
   "source": [
    "### Strings\n",
    "\n",
    "**Explicação:** `Strings` representam texto e são definidas usando aspas simples (') ou duplas (\"). Elas podem armazenar palavras, frases ou caracteres individuais.\n",
    "\n",
    "**Explanation:** `Strings` represent text and are defined using single (') or double (\") quotes. They can store words, phrases, or individual characters.\n",
    "\n",
    "> Exemplo / Example"
   ]
  },
  {
   "cell_type": "code",
   "execution_count": 9,
   "metadata": {},
   "outputs": [
    {
     "name": "stdout",
     "output_type": "stream",
     "text": [
      "Olá, João\n",
      "Python! Python! Python! \n",
      "J\n",
      "Bem-vindo\n"
     ]
    }
   ],
   "source": [
    "# Criando strings / Creating strings\n",
    "nome = \"João\"\n",
    "mensagem = 'Bem-vindo ao Python!'\n",
    "\n",
    "# Concatenação e repetição / Concatenation and repetition\n",
    "saudacao = \"Olá, \" + nome  # Resultado: \"Olá, João\" / Output: \"Hello, João\"\n",
    "repeticao = \"Python! \" * 3  # Resultado: \"Python! Python! Python!\" / Output: \"Python! Python! Python!\"\n",
    "\n",
    "# Indexação e slicing / Indexing and slicing\n",
    "primeira_letra = nome[0]  # Resultado: 'J' / Output: 'J'\n",
    "sub_string = mensagem[0:9]  # Resultado: 'Bem-vindo' / Output: 'Bem-vindo'\n",
    "\n",
    "print(saudacao)\n",
    "print(repeticao)\n",
    "print(primeira_letra)\n",
    "print(sub_string)"
   ]
  },
  {
   "cell_type": "markdown",
   "metadata": {},
   "source": [
    "### 1. Concatenando Strings / Concatenating Strings\n",
    "\n",
    "Junte diferentes partes de texto para criar uma mensagem.\n",
    "\n",
    "Combine different pieces of text to create a message."
   ]
  },
  {
   "cell_type": "code",
   "execution_count": 22,
   "metadata": {},
   "outputs": [
    {
     "name": "stdout",
     "output_type": "stream",
     "text": [
      "Olá, Maria Silva!\n",
      "Hello, Maria Silva!\n"
     ]
    }
   ],
   "source": [
    "# Utilize + \" \" + para concatenar em Python\n",
    "\n",
    "nome = \"Maria\"\n",
    "sobrenome = \"Silva\"\n",
    "mensagem = \"Olá, \" + nome + \" \" + sobrenome + \"!\"  \n",
    "print(mensagem) # Saída / Output: Olá, Maria Silva!\n",
    "\n",
    "# Use + \" \" + to concatenate in Python\n",
    "\n",
    "name = \"Maria\"\n",
    "surname = \"Silva\"\n",
    "message = \"Hello, \" + name + \" \" + surname + \"!\"\n",
    "print(message) # Output: Hello, Maria Silva!"
   ]
  },
  {
   "cell_type": "markdown",
   "metadata": {},
   "source": [
    "### 2. Trabalhando com Múltiplas Linhas / Working with Multiple Lines\n",
    "\n",
    "Crie textos mais longos ou mensagens organizadas em várias linhas.\n",
    "\n",
    "Create longer texts or messages organized into multiple lines."
   ]
  },
  {
   "cell_type": "code",
   "execution_count": 11,
   "metadata": {},
   "outputs": [
    {
     "name": "stdout",
     "output_type": "stream",
     "text": [
      "Olá, Maria!\n",
      "Seja bem-vinda ao sistema.\n",
      "Atenciosamente,\n",
      "Equipe Suporte.\n",
      "Hello, Maria!\n",
      "Welcome to the system.\n",
      "Best regards,\n",
      "Support Team.\n"
     ]
    }
   ],
   "source": [
    "# Utilize aspas triplas para strings multilinhas \n",
    "\n",
    "mensagem = \"\"\"Olá, Maria!\n",
    "Seja bem-vinda ao sistema.\n",
    "Atenciosamente,\n",
    "Equipe Suporte.\"\"\"\n",
    "print(mensagem)\n",
    "\n",
    "# Use triple quotes for multiline strings\n",
    "\n",
    "message = \"\"\"Hello, Maria!\n",
    "Welcome to the system.\n",
    "Best regards,\n",
    "Support Team.\"\"\"\n",
    "print(message)"
   ]
  },
  {
   "cell_type": "markdown",
   "metadata": {},
   "source": [
    "### 3. Interpolação com F-strings / Interpolation with F-strings\n",
    "\n",
    "Use variáveis diretamente dentro de strings.\n",
    "\n",
    "Use variables directly inside strings."
   ]
  },
  {
   "cell_type": "code",
   "execution_count": 18,
   "metadata": {},
   "outputs": [
    {
     "name": "stdout",
     "output_type": "stream",
     "text": [
      "O preço do notebook é R$ 2999.99.\n",
      "The price of the laptop is $599.99.\n"
     ]
    }
   ],
   "source": [
    "# As f-strings são definidas prefixando a string com a letra f ou F e colocando as variáveis entre chaves {}\n",
    "\n",
    "produto = \"notebook\"\n",
    "preco = 2999.99\n",
    "mensagem = f\"O preço do {produto} é R$ {preco:.2f}.\"\n",
    "print(mensagem) # Saída: O preço do notebook é R$ 2999.99.\n",
    "\n",
    "#F-strings are defined by prefixing the string with the letter f or F and placing the variables inside curly braces {}.\n",
    "\n",
    "product = \"laptop\"\n",
    "price = 599.99\n",
    "message = f\"The price of the {product} is ${price:.2f}.\"\n",
    "print(message) # Output: The price of the laptop is $599.99."
   ]
  },
  {
   "cell_type": "markdown",
   "metadata": {},
   "source": [
    "### 4. Alterando Textos com Métodos / Modifying Texts with Methods\n",
    "\n",
    "Ajuste e processe strings com métodos úteis. \n",
    "\n",
    "Adjust and process strings using handy methods."
   ]
  },
  {
   "cell_type": "code",
   "execution_count": 20,
   "metadata": {},
   "outputs": [
    {
     "name": "stdout",
     "output_type": "stream",
     "text": [
      "   olá, mundo!   \n",
      "   OLÁ, MUNDO!   \n",
      "Olá, Mundo!\n",
      "   Olá, Python!   \n",
      "   hello, world!   \n",
      "   HELLO, WORLD!   \n",
      "Hello, World!\n",
      "   Hello, Python!   \n"
     ]
    }
   ],
   "source": [
    "# Em Python, um método é uma função que está associada a um objeto. Métodos são definidos dentro de uma classe e podem manipular os dados do objeto ao qual pertencem. Eles são chamados usando a sintaxe objeto.metodo().\n",
    "\n",
    "texto = \"   Olá, Mundo!   \"\n",
    "print(texto.lower())  # tudo minúsculo / all lowercase\n",
    "print(texto.upper())  # tudo maiúsculo / all uppercase\n",
    "print(texto.strip())  # remove espaços extras / removes extra spaces\n",
    "print(texto.replace(\"Mundo\", \"Python\"))  # troca palavras / replaces words\n",
    "\n",
    "# In Python, a method is a function that is associated with an object. Methods are defined inside a class and can manipulate the data of the object they belong to. They are called using the syntax object.method().\n",
    "\n",
    "text = \"   Hello, World!   \"\n",
    "print(text.lower())  # all lowercase\n",
    "print(text.upper())  # all uppercase\n",
    "print(text.strip())  # removes extra spaces\n",
    "print(text.replace(\"World\", \"Python\"))  # replaces words"
   ]
  },
  {
   "cell_type": "markdown",
   "metadata": {},
   "source": [
    "### 5. Procurando Palavras / Searching for Words\n",
    "\n",
    "Descubra se uma palavra está presente em uma string.\n",
    "\n",
    "Find out if a word is present in a string."
   ]
  },
  {
   "cell_type": "code",
   "execution_count": 23,
   "metadata": {},
   "outputs": [
    {
     "name": "stdout",
     "output_type": "stream",
     "text": [
      "True\n",
      "False\n",
      "True\n",
      "False\n"
     ]
    }
   ],
   "source": [
    "mensagem = \"Aprender Python é divertido!\"\n",
    "print(\"Python\" in mensagem)  # True\n",
    "print(\"Java\" in mensagem)    # False\n",
    "\n",
    "message = \"Learning Python is fun!\"\n",
    "print(\"Python\" in message)  # True\n",
    "print(\"Java\" in message)    # False"
   ]
  }
 ],
 "metadata": {
  "kernelspec": {
   "display_name": "base",
   "language": "python",
   "name": "python3"
  },
  "language_info": {
   "codemirror_mode": {
    "name": "ipython",
    "version": 3
   },
   "file_extension": ".py",
   "mimetype": "text/x-python",
   "name": "python",
   "nbconvert_exporter": "python",
   "pygments_lexer": "ipython3",
   "version": "3.12.7"
  }
 },
 "nbformat": 4,
 "nbformat_minor": 2
}
