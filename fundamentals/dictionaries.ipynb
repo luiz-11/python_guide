{
 "cells": [
  {
   "cell_type": "markdown",
   "metadata": {},
   "source": [
    "# Fundamentos de Python / Python Fundamentals"
   ]
  },
  {
   "cell_type": "markdown",
   "metadata": {},
   "source": [
    "## Dicionários / Dictionaries\n",
    "\n",
    "**Explicação:** `Dicionários` armazenam pares de chave-valor. Eles são úteis para organizar dados relacionados de forma estruturada.\n",
    "\n",
    "**Explanation:** `Dictionaries` store key-value pairs. They are useful for organizing related data in a structured way.\n",
    "\n",
    "> Exemplo / Example"
   ]
  },
  {
   "cell_type": "code",
   "execution_count": 1,
   "metadata": {},
   "outputs": [
    {
     "name": "stdout",
     "output_type": "stream",
     "text": [
      "Nome: Ana, Idade: 25\n",
      "Dados atualizados: {'nome': 'Ana', 'idade': 26, 'cidade': 'São Paulo'}\n",
      "Name: Anna, Age: 25\n",
      "Updated data: {'name': 'Anna', 'age': 26, 'city': 'New York'}\n"
     ]
    }
   ],
   "source": [
    "# Português / Portuguese\n",
    "# Criando um dicionário\n",
    "pessoa = {\"nome\": \"Ana\", \"idade\": 25}\n",
    "print(f\"Nome: {pessoa['nome']}, Idade: {pessoa['idade']}\")\n",
    "\n",
    "# Adicionando e alterando valores\n",
    "pessoa[\"cidade\"] = \"São Paulo\"\n",
    "pessoa[\"idade\"] = 26\n",
    "print(f\"Dados atualizados: {pessoa}\")\n",
    "\n",
    "# English\n",
    "# Creating a dictionary\n",
    "person = {\"name\": \"Anna\", \"age\": 25}\n",
    "print(f\"Name: {person['name']}, Age: {person['age']}\")\n",
    "\n",
    "# Adding and updating values\n",
    "person[\"city\"] = \"New York\"\n",
    "person[\"age\"] = 26\n",
    "print(f\"Updated data: {person}\")"
   ]
  }
 ],
 "metadata": {
  "kernelspec": {
   "display_name": "base",
   "language": "python",
   "name": "python3"
  },
  "language_info": {
   "codemirror_mode": {
    "name": "ipython",
    "version": 3
   },
   "file_extension": ".py",
   "mimetype": "text/x-python",
   "name": "python",
   "nbconvert_exporter": "python",
   "pygments_lexer": "ipython3",
   "version": "3.12.7"
  }
 },
 "nbformat": 4,
 "nbformat_minor": 2
}
