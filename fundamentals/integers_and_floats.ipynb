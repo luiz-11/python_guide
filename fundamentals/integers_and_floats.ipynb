{
 "cells": [
  {
   "cell_type": "markdown",
   "metadata": {},
   "source": [
    "# Fundamentos de Python / Python Fundamentals"
   ]
  },
  {
   "cell_type": "markdown",
   "metadata": {},
   "source": [
    "## Números Inteiros / Integers\n",
    "\n",
    "**Explicação:** `Números inteiros` são usados para representar valores numéricos sem casas decimais. Eles podem ser positivos, negativos ou zero.\n",
    "\n",
    "- Exemplos de aplicação: contagem de itens, identificação de índices ou cálculos matemáticos simples.\n",
    "\n",
    "**Explanation:** `Integers` are used to represent numerical values without decimal places. They can be positive, negative, or zero.\n",
    "\n",
    "- Use cases: counting items, identifying indices, or simple mathematical calculations.\n",
    "\n",
    "> Exemplo / Exemple"
   ]
  },
  {
   "cell_type": "code",
   "execution_count": 4,
   "metadata": {},
   "outputs": [
    {
     "name": "stdout",
     "output_type": "stream",
     "text": [
      "True\n",
      "True\n",
      "True\n"
     ]
    }
   ],
   "source": [
    "# Criando variáveis de números inteiros / Creating integer variables\n",
    "idade = 30  # Idade de uma pessoa / A person's age\n",
    "anos_de_experiencia = 5  # Anos de experiência em um trabalho / Years of work experience\n",
    "\n",
    "# Operações matemáticas básicas / Basic mathematical operations\n",
    "soma = 10 + 5  # Resultado: 15 / Output: 15\n",
    "subtracao = 10 - 5  # Resultado: 5 / Output: 5\n",
    "multiplicacao = 10 * 5  # Resultado: 50 / Output: 50\n",
    "divisao_inteira = 10 // 3  # Resultado: 3 / Output: 3 (divisão inteira / integer division)\n",
    "\n",
    "# Comparações / Comparisons\n",
    "print(idade > anos_de_experiencia)  # True\n",
    "print(idade == 30)  # True\n",
    "print(anos_de_experiencia < 10)  # True"
   ]
  },
  {
   "cell_type": "markdown",
   "metadata": {},
   "source": [
    "## Números Decimais (float) / Decimal Numbers (float)\n",
    "\n",
    "**Explicação:** O `tipo float` é usado para representar números com casas decimais, como medidas ou valores financeiros.\n",
    "\n",
    "**Explanation:** The `float type` is used to represent numbers with decimal points, such as measurements or financial values.\n",
    "\n",
    "> Exemplo / Exemple"
   ]
  },
  {
   "cell_type": "code",
   "execution_count": null,
   "metadata": {},
   "outputs": [
    {
     "name": "stdout",
     "output_type": "stream",
     "text": [
      "True\n",
      "True\n"
     ]
    }
   ],
   "source": [
    "# Criando variáveis float / Creating float variables\n",
    "altura = 1.75  # Altura em metros / Height in meters\n",
    "preco = 19.99  # Preço de um item / Price of an item\n",
    "\n",
    "# Operações com floats / Operations with floats\n",
    "soma = 1.2 + 3.4  # Resultado: 4.6 / Output: 4.6\n",
    "multiplicacao = 2.5 * 2  # Resultado: 5.0 / Output: 5.0\n",
    "\n",
    "# Comparações entre floats / Comparisons with floats\n",
    "print(altura > 1.5)  # True\n",
    "print(preco == 19.99)  # True"
   ]
  },
  {
   "cell_type": "markdown",
   "metadata": {},
   "source": [
    "##\n",
    "\n",
    "> Outros exemplos / Other examples"
   ]
  },
  {
   "cell_type": "markdown",
   "metadata": {},
   "source": [
    "### 1. Operações Matemáticas / Mathematical Operations\n",
    "\n",
    "Realize cálculos básicos com números inteiros e floats.\n",
    "\n",
    "Perform basic calculations with integers and floats."
   ]
  },
  {
   "cell_type": "code",
   "execution_count": null,
   "metadata": {},
   "outputs": [
    {
     "name": "stdout",
     "output_type": "stream",
     "text": [
      "Soma: 13, Subtração: 7, Multiplicação: 30, Divisão: 3.3333333333333335\n",
      "Sum: 13, Subtraction: 7, Multiplication: 30, Division: 3.3333333333333335\n"
     ]
    }
   ],
   "source": [
    "# Português / Portuguese\n",
    "a = 10\n",
    "b = 3\n",
    "soma = a + b  # Adição \n",
    "subtracao = a - b  # Subtração \n",
    "multiplicacao = a * b  # Multiplicação \n",
    "divisao = a / b  # Divisão (resultado float) \n",
    "resto = a % b  # Módulo \n",
    "potencia = a ** b  # Potência \n",
    "print(f\"Soma: {soma}, Subtração: {subtracao}, Multiplicação: {multiplicacao}, Divisão: {divisao}\")\n",
    "\n",
    "# English\n",
    "a = 10\n",
    "b = 3\n",
    "sum_result = a + b  # Addition\n",
    "subtraction = a - b  # Subtraction\n",
    "multiplication = a * b  # Multiplication\n",
    "division = a / b  # Division (float result)\n",
    "remainder = a % b  # Modulo\n",
    "power = a ** b  # Power\n",
    "print(f\"Sum: {sum_result}, Subtraction: {subtraction}, Multiplication: {multiplication}, Division: {division}\")"
   ]
  },
  {
   "cell_type": "markdown",
   "metadata": {},
   "source": [
    "### 2. Trabalhando com Float e Decimal / Working with Float and Decimal\n",
    "\n",
    "Use valores decimais precisos.\n",
    "\n",
    "Work with precise decimal values."
   ]
  },
  {
   "cell_type": "code",
   "execution_count": null,
   "metadata": {},
   "outputs": [
    {
     "name": "stdout",
     "output_type": "stream",
     "text": [
      "Resultado com float: 0.30000000000000004\n",
      "Resultado com Decimal: 0.3\n",
      "Result with float: 0.30000000000000004\n",
      "Result with Decimal: 0.3\n"
     ]
    }
   ],
   "source": [
    "# Português / Portuguese\n",
    "from decimal import Decimal\n",
    "\n",
    "valor1 = 0.1\n",
    "valor2 = 0.2\n",
    "resultado = valor1 + valor2\n",
    "print(f\"Resultado com float: {resultado}\")  # Pode gerar imprecisão\n",
    "\n",
    "decimal1 = Decimal(\"0.1\")\n",
    "decimal2 = Decimal(\"0.2\")\n",
    "resultado_decimal = decimal1 + decimal2\n",
    "print(f\"Resultado com Decimal: {resultado_decimal}\")  # Precisão exata\n",
    "\n",
    "# English\n",
    "from decimal import Decimal\n",
    "\n",
    "value1 = 0.1\n",
    "value2 = 0.2\n",
    "result = value1 + value2\n",
    "print(f\"Result with float: {result}\")  # May produce imprecision\n",
    "\n",
    "decimal1 = Decimal(\"0.1\")\n",
    "decimal2 = Decimal(\"0.2\")\n",
    "decimal_result = decimal1 + decimal2\n",
    "print(f\"Result with Decimal: {decimal_result}\")  # Exact precision"
   ]
  },
  {
   "cell_type": "markdown",
   "metadata": {},
   "source": [
    "### 3. Conversão de Tipos / Type Conversion\n",
    "\n",
    "Transforme entre diferentes tipos de números.\n",
    "\n",
    "Convert between different types of numbers."
   ]
  },
  {
   "cell_type": "code",
   "execution_count": null,
   "metadata": {},
   "outputs": [
    {
     "name": "stdout",
     "output_type": "stream",
     "text": [
      "String: 42, Inteiro: 42, Float: 42.0\n",
      "String: 42, Integer: 42, Float: 42.0\n"
     ]
    }
   ],
   "source": [
    "# Português / Portuguese\n",
    "numero = \"42\"\n",
    "numero_inteiro = int(numero)  # String para inteiro\n",
    "numero_float = float(numero_inteiro)  # Inteiro para float\n",
    "print(f\"String: {numero}, Inteiro: {numero_inteiro}, Float: {numero_float}\")\n",
    "\n",
    "# English\n",
    "number = \"42\"\n",
    "integer_number = int(number)  # String to integer\n",
    "float_number = float(integer_number)  # Integer to float\n",
    "print(f\"String: {number}, Integer: {integer_number}, Float: {float_number}\")"
   ]
  },
  {
   "cell_type": "markdown",
   "metadata": {},
   "source": [
    "### 4. Comparações / Comparisons\n",
    "\n",
    "Compare valores numéricos para verificar condições.\n",
    "\n",
    "Compare numeric values to check conditions."
   ]
  },
  {
   "cell_type": "code",
   "execution_count": null,
   "metadata": {},
   "outputs": [
    {
     "name": "stdout",
     "output_type": "stream",
     "text": [
      "False\n",
      "True\n",
      "False\n",
      "True\n",
      "False\n",
      "True\n",
      "False\n",
      "True\n"
     ]
    }
   ],
   "source": [
    "# Português / Portuguese\n",
    "a = 15\n",
    "b = 20\n",
    "print(a > b)  # False\n",
    "print(a < b)  # True\n",
    "print(a == b)  # False\n",
    "print(a != b)  # True\n",
    "\n",
    "# English\n",
    "a = 15\n",
    "b = 20\n",
    "print(a > b)  # False\n",
    "print(a < b)  # True\n",
    "print(a == b)  # False\n",
    "print(a != b)  # True"
   ]
  },
  {
   "cell_type": "markdown",
   "metadata": {},
   "source": [
    "### 5. Trabalhando com Valores Grandes / Working with Large Values\n",
    "\n",
    "Lide com números muito grandes ou pequenos.\n",
    "\n",
    "Work with very large or small numbers."
   ]
  },
  {
   "cell_type": "code",
   "execution_count": null,
   "metadata": {},
   "outputs": [
    {
     "name": "stdout",
     "output_type": "stream",
     "text": [
      "Valor muito grande: 100000000000000000000\n",
      "Very large value: 100000000000000000000\n"
     ]
    }
   ],
   "source": [
    "# Português / Portuguese\n",
    "grande = 10**20\n",
    "print(f\"Valor muito grande: {grande}\")\n",
    "\n",
    "# English\n",
    "large = 10**20\n",
    "print(f\"Very large value: {large}\")"
   ]
  },
  {
   "cell_type": "markdown",
   "metadata": {},
   "source": [
    "### 6. Verificando Tipos / Checking Types\n",
    "\n",
    "Descubra o tipo de um dado usando `type()`.\n",
    "\n",
    "Find out the type of data using `type()`."
   ]
  },
  {
   "cell_type": "code",
   "execution_count": null,
   "metadata": {},
   "outputs": [
    {
     "name": "stdout",
     "output_type": "stream",
     "text": [
      "<class 'int'>\n",
      "<class 'int'>\n"
     ]
    }
   ],
   "source": [
    "# Português / Portuguese\n",
    "numero = 42\n",
    "print(type(numero))  # <class 'int'>\n",
    "\n",
    "# English\n",
    "number = 42\n",
    "print(type(number))  # <class 'int'>"
   ]
  }
 ],
 "metadata": {
  "kernelspec": {
   "display_name": "base",
   "language": "python",
   "name": "python3"
  },
  "language_info": {
   "codemirror_mode": {
    "name": "ipython",
    "version": 3
   },
   "file_extension": ".py",
   "mimetype": "text/x-python",
   "name": "python",
   "nbconvert_exporter": "python",
   "pygments_lexer": "ipython3",
   "version": "3.12.7"
  }
 },
 "nbformat": 4,
 "nbformat_minor": 2
}
