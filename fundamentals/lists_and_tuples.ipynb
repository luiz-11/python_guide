{
 "cells": [
  {
   "cell_type": "markdown",
   "metadata": {},
   "source": [
    "# Fundamentos de Python / Python Fundamentals"
   ]
  },
  {
   "cell_type": "markdown",
   "metadata": {},
   "source": [
    "## Listas / Lists\n",
    "\n",
    "**Explicação:** `Listas` armazenam múltiplos valores em uma única variável. Elas são mutáveis, permitindo alterações nos elementos.\n",
    "\n",
    "**Explanation:** `Lists` store multiple values in a single variable. They are mutable, allowing modifications to their elements.\n",
    "\n",
    "> Exemplo / Example"
   ]
  },
  {
   "cell_type": "code",
   "execution_count": null,
   "metadata": {},
   "outputs": [
    {
     "name": "stdout",
     "output_type": "stream",
     "text": [
      "Primeiro número: 1\n",
      "Lista após adicionar: [1, 2, 3, 4, 5, 6]\n",
      "Lista após remover: [1, 2, 4, 5, 6]\n",
      "First number: 1\n",
      "List after adding: [1, 2, 3, 4, 5, 6]\n",
      "List after removing: [1, 2, 4, 5, 6]\n"
     ]
    }
   ],
   "source": [
    "# Português / Portuguese\n",
    "# Criando uma lista\n",
    "numeros = [1, 2, 3, 4, 5]\n",
    "print(f\"Primeiro número: {numeros[0]}\")\n",
    "\n",
    "# Adicionando e removendo elementos\n",
    "numeros.append(6)\n",
    "print(f\"Lista após adicionar: {numeros}\")\n",
    "numeros.remove(3)\n",
    "print(f\"Lista após remover: {numeros}\")\n",
    "\n",
    "# English\n",
    "# Creating a list\n",
    "numbers = [1, 2, 3, 4, 5]\n",
    "print(f\"First number: {numbers[0]}\")\n",
    "\n",
    "# Adding and removing elements\n",
    "numbers.append(6)\n",
    "print(f\"List after adding: {numbers}\")\n",
    "numbers.remove(3)\n",
    "print(f\"List after removing: {numbers}\")"
   ]
  },
  {
   "cell_type": "markdown",
   "metadata": {},
   "source": [
    "## Tuplas / Tuples\n",
    "\n",
    "**Explicação:** `Tuplas` são como listas, mas imutáveis. Isso significa que seus elementos não podem ser alterados após a criação.\n",
    "\n",
    "**Explanation:** `Tuples` are like lists but immutable. This means their elements cannot be changed after creation.\n",
    "\n",
    "> Exemplo / Example"
   ]
  },
  {
   "cell_type": "code",
   "execution_count": 2,
   "metadata": {},
   "outputs": [
    {
     "name": "stdout",
     "output_type": "stream",
     "text": [
      "Coordenadas: (10, 20)\n",
      "Coordinates: (10, 20)\n"
     ]
    }
   ],
   "source": [
    "# Português / Portuguese\n",
    "# Criando uma tupla\n",
    "coordenadas = (10, 20)\n",
    "print(f\"Coordenadas: {coordenadas}\")\n",
    "\n",
    "# Tentativa de alteração (causa erro)\n",
    "# coordenadas[0] = 15  # Erro: TypeError\n",
    "\n",
    "# English\n",
    "# Creating a tuple\n",
    "coordinates = (10, 20)\n",
    "print(f\"Coordinates: {coordinates}\")\n",
    "\n",
    "# Attempting modification (causes error)\n",
    "# coordinates[0] = 15  # Error: TypeError"
   ]
  },
  {
   "cell_type": "markdown",
   "metadata": {},
   "source": [
    "##\n",
    "\n",
    "> Outros exemplos / Other examples"
   ]
  },
  {
   "cell_type": "markdown",
   "metadata": {},
   "source": [
    "### 1. Criando Listas e Tuplas / Creating Lists and Tuples\n",
    "\n",
    "Armazene múltiplos valores em uma única variável.\n",
    "\n",
    "Store multiple values in a single variable."
   ]
  },
  {
   "cell_type": "code",
   "execution_count": null,
   "metadata": {},
   "outputs": [
    {
     "name": "stdout",
     "output_type": "stream",
     "text": [
      "['maçã', 'banana', 'uva', 'laranja']\n",
      "('vermelho', 'azul', 'verde')\n",
      "['apple', 'banana', 'grape', 'orange']\n",
      "('red', 'blue', 'green')\n"
     ]
    }
   ],
   "source": [
    "# Português / Portuguese\n",
    "# Lista (mutável)\n",
    "frutas = [\"maçã\", \"banana\", \"uva\", \"laranja\"]\n",
    "print(frutas)\n",
    "\n",
    "# Tupla (imutável)\n",
    "cores = (\"vermelho\", \"azul\", \"verde\")\n",
    "print(cores)\n",
    "\n",
    "# English\n",
    "# List (mutable)\n",
    "fruits = [\"apple\", \"banana\", \"grape\", \"orange\"]\n",
    "print(fruits)\n",
    "\n",
    "# Tuple (immutable)\n",
    "colors = (\"red\", \"blue\", \"green\")\n",
    "print(colors)"
   ]
  },
  {
   "cell_type": "markdown",
   "metadata": {},
   "source": [
    "### 2. Acessando Elementos / Accessing Elements\n",
    "\n",
    "Pegue elementos individuais por índices.\n",
    "\n",
    "Retrieve individual elements by index."
   ]
  },
  {
   "cell_type": "code",
   "execution_count": null,
   "metadata": {},
   "outputs": [
    {
     "name": "stdout",
     "output_type": "stream",
     "text": [
      "maçã\n",
      "laranja\n",
      "azul\n",
      "apple\n",
      "orange\n",
      "blue\n"
     ]
    }
   ],
   "source": [
    "# Português / Portuguese\n",
    "frutas = [\"maçã\", \"banana\", \"uva\", \"laranja\"]\n",
    "print(frutas[0])  # Primeiro elemento\n",
    "print(frutas[-1])  # Último elemento\n",
    "\n",
    "cores = (\"vermelho\", \"azul\", \"verde\")\n",
    "print(cores[1])  # Segundo elemento\n",
    "\n",
    "# English\n",
    "fruits = [\"apple\", \"banana\", \"grape\", \"orange\"]\n",
    "print(fruits[0])  # First element\n",
    "print(fruits[-1])  # Last element\n",
    "\n",
    "colors = (\"red\", \"blue\", \"green\")\n",
    "print(colors[1])  # Second element"
   ]
  },
  {
   "cell_type": "markdown",
   "metadata": {},
   "source": [
    "### 3. Modificando Listas / Modifying Lists\n",
    "\n",
    "Listas podem ser alteradas, mas tuplas não.\n",
    "\n",
    "Lists can be modified, but tuples cannot.\n"
   ]
  },
  {
   "cell_type": "code",
   "execution_count": null,
   "metadata": {},
   "outputs": [
    {
     "name": "stdout",
     "output_type": "stream",
     "text": [
      "['maçã', 'morango', 'uva']\n",
      "['apple', 'strawberry', 'grape']\n"
     ]
    }
   ],
   "source": [
    "# Português / Portuguese\n",
    "frutas = [\"maçã\", \"banana\", \"uva\"]\n",
    "frutas[1] = \"morango\"  # Modifica a lista\n",
    "print(frutas)\n",
    "\n",
    "# cores = (\"vermelho\", \"azul\", \"verde\")\n",
    "# cores[1] = \"amarelo\"  # Isso dá erro! Tuplas são imutáveis.\n",
    "\n",
    "# English\n",
    "fruits = [\"apple\", \"banana\", \"grape\"]\n",
    "fruits[1] = \"strawberry\"  # Modify the list\n",
    "print(fruits)\n",
    "\n",
    "# colors = (\"red\", \"blue\", \"green\")\n",
    "# colors[1] = \"yellow\"  # This gives an error! Tuples are immutable."
   ]
  },
  {
   "cell_type": "markdown",
   "metadata": {},
   "source": [
    "### 4. Adicionando e Removendo Elementos / Adding and Removing Elements\n",
    "\n",
    "Modifique o conteúdo de uma lista com métodos úteis.\n",
    "\n",
    "Modify list content with useful methods."
   ]
  },
  {
   "cell_type": "code",
   "execution_count": null,
   "metadata": {},
   "outputs": [
    {
     "name": "stdout",
     "output_type": "stream",
     "text": [
      "['maçã', 'banana', 'uva']\n",
      "['maçã', 'uva']\n",
      "['apple', 'banana', 'grape']\n",
      "['apple', 'grape']\n"
     ]
    }
   ],
   "source": [
    "# Português / Portuguese\n",
    "frutas = [\"maçã\", \"banana\"]\n",
    "frutas.append(\"uva\")  # Adiciona um elemento\n",
    "print(frutas)\n",
    "\n",
    "frutas.remove(\"banana\")  # Remove um elemento\n",
    "print(frutas)\n",
    "\n",
    "# English\n",
    "fruits = [\"apple\", \"banana\"]\n",
    "fruits.append(\"grape\")  # Add an element\n",
    "print(fruits)\n",
    "\n",
    "fruits.remove(\"banana\")  # Remove an element\n",
    "print(fruits)"
   ]
  },
  {
   "cell_type": "markdown",
   "metadata": {},
   "source": [
    "### 5. Iterando Sobre Listas e Tuplas / Iterating Over Lists and Tuples\n",
    "\n",
    "Percorra os elementos de listas e tuplas usando `for`.\n",
    "\n",
    "Loop through elements of lists and tuples using `for`."
   ]
  },
  {
   "cell_type": "code",
   "execution_count": 7,
   "metadata": {},
   "outputs": [
    {
     "name": "stdout",
     "output_type": "stream",
     "text": [
      "maçã\n",
      "banana\n",
      "uva\n",
      "vermelho\n",
      "azul\n",
      "verde\n",
      "apple\n",
      "banana\n",
      "grape\n",
      "red\n",
      "blue\n",
      "green\n"
     ]
    }
   ],
   "source": [
    "# Português / Portuguese\n",
    "frutas = [\"maçã\", \"banana\", \"uva\"]\n",
    "for fruta in frutas:\n",
    "    print(fruta)\n",
    "\n",
    "cores = (\"vermelho\", \"azul\", \"verde\")\n",
    "for cor in cores:\n",
    "    print(cor)\n",
    "\n",
    "# English\n",
    "fruits = [\"apple\", \"banana\", \"grape\"]\n",
    "for fruit in fruits:\n",
    "    print(fruit)\n",
    "\n",
    "colors = (\"red\", \"blue\", \"green\")\n",
    "for color in colors:\n",
    "    print(color)"
   ]
  },
  {
   "cell_type": "markdown",
   "metadata": {
    "vscode": {
     "languageId": "html"
    }
   },
   "source": [
    "### 6. Fatiando Listas e Tuplas / Slicing Lists and Tuples\n",
    "\n",
    "Pegue partes específicas de uma lista ou tupla.\n",
    "\n",
    "Get specific parts of a list or tuple."
   ]
  },
  {
   "cell_type": "code",
   "execution_count": null,
   "metadata": {},
   "outputs": [
    {
     "name": "stdout",
     "output_type": "stream",
     "text": [
      "['banana', 'uva', 'laranja']\n",
      "['maçã', 'banana']\n",
      "('verde', 'amarelo')\n",
      "['banana', 'grape', 'orange']\n",
      "['apple', 'banana']\n",
      "('green', 'yellow')\n"
     ]
    }
   ],
   "source": [
    "# Português / Portuguese\n",
    "frutas = [\"maçã\", \"banana\", \"uva\", \"laranja\", \"abacaxi\"]\n",
    "print(frutas[1:4])  # Elementos do índice 1 ao 3\n",
    "print(frutas[:2])  # Primeiros dois elementos\n",
    "\n",
    "cores = (\"vermelho\", \"azul\", \"verde\", \"amarelo\")\n",
    "print(cores[-2:])  # Últimos dois elementos\n",
    "\n",
    "# English\n",
    "fruits = [\"apple\", \"banana\", \"grape\", \"orange\", \"pineapple\"]\n",
    "print(fruits[1:4])  # Elements from index 1 to 3\n",
    "print(fruits[:2])  # First two elements\n",
    "\n",
    "colors = (\"red\", \"blue\", \"green\", \"yellow\")\n",
    "print(colors[-2:])  # Last two elements"
   ]
  },
  {
   "cell_type": "markdown",
   "metadata": {},
   "source": [
    "### 7. Tamanho da Lista e Tupla / List and Tuple Length\n",
    "\n",
    "Descubra quantos elementos há em uma lista ou tupla.\n",
    "\n",
    "Find out how many elements are in a list or tuple."
   ]
  },
  {
   "cell_type": "code",
   "execution_count": 15,
   "metadata": {},
   "outputs": [
    {
     "name": "stdout",
     "output_type": "stream",
     "text": [
      "3\n",
      "3\n",
      "3\n",
      "3\n"
     ]
    }
   ],
   "source": [
    "# Português / Portuguese\n",
    "frutas = [\"maçã\", \"banana\", \"uva\"]\n",
    "print(len(frutas))  # Tamanho da lista\n",
    "\n",
    "cores = (\"vermelho\", \"azul\", \"verde\")\n",
    "print(len(cores))  # Tamanho da tupla\n",
    "\n",
    "# English\n",
    "fruits = [\"apple\", \"banana\", \"grape\"]\n",
    "print(len(fruits))  # List length\n",
    "\n",
    "colors = (\"red\", \"blue\", \"green\")\n",
    "print(len(colors))  # Tuple length\n"
   ]
  },
  {
   "cell_type": "markdown",
   "metadata": {},
   "source": [
    "### 8. Verificando Elementos / Checking for Elements\n",
    "\n",
    "Verifique se um valor está presente.\n",
    "\n",
    "Check if a value is present."
   ]
  },
  {
   "cell_type": "code",
   "execution_count": 17,
   "metadata": {},
   "outputs": [
    {
     "name": "stdout",
     "output_type": "stream",
     "text": [
      "True\n",
      "True\n",
      "False\n",
      "True\n",
      "True\n",
      "False\n"
     ]
    }
   ],
   "source": [
    "# Português / Portuguese\n",
    "frutas = [\"maçã\", \"banana\", \"uva\"]\n",
    "print(\"banana\" in frutas)  # True\n",
    "print(\"laranja\" not in frutas)  # True\n",
    "\n",
    "cores = (\"vermelho\", \"azul\")\n",
    "print(\"verde\" in cores)  # False\n",
    "\n",
    "# English\n",
    "fruits = [\"apple\", \"banana\", \"grape\"]\n",
    "print(\"banana\" in fruits)  # True\n",
    "print(\"orange\" not in fruits)  # True\n",
    "\n",
    "colors = (\"red\", \"blue\")\n",
    "print(\"green\" in colors)  # False"
   ]
  },
  {
   "cell_type": "markdown",
   "metadata": {},
   "source": [
    "### 9. Ordenando Listas / Sorting Lists\n",
    "\n",
    "Organize listas em ordem crescente ou decrescente.\n",
    "\n",
    "Sort lists in ascending or descending order."
   ]
  },
  {
   "cell_type": "code",
   "execution_count": null,
   "metadata": {},
   "outputs": [
    {
     "name": "stdout",
     "output_type": "stream",
     "text": [
      "[1, 2, 5, 9]\n",
      "[9, 5, 2, 1]\n",
      "[1, 2, 5, 9]\n",
      "[9, 5, 2, 1]\n"
     ]
    }
   ],
   "source": [
    "# Português / Portuguese\n",
    "numeros = [5, 2, 9, 1]\n",
    "numeros.sort()  # Crescente\n",
    "print(numeros)\n",
    "\n",
    "numeros.sort(reverse=True)  # Decrescente\n",
    "print(numeros)\n",
    "\n",
    "# English\n",
    "numbers = [5, 2, 9, 1]\n",
    "numbers.sort()  # Ascending\n",
    "print(numbers)\n",
    "\n",
    "numbers.sort(reverse=True)  # Descending\n",
    "print(numbers)"
   ]
  },
  {
   "cell_type": "markdown",
   "metadata": {},
   "source": [
    "### 10. Convertendo Listas e Tuplas / Converting Between Lists and Tuples\n",
    "\n",
    "Transforme uma lista em tupla ou uma tupla em lista.\n",
    "\n",
    "Convert a list to a tuple or a tuple to a list."
   ]
  },
  {
   "cell_type": "code",
   "execution_count": null,
   "metadata": {},
   "outputs": [
    {
     "name": "stdout",
     "output_type": "stream",
     "text": [
      "('maçã', 'banana', 'uva')\n",
      "['vermelho', 'azul']\n",
      "('apple', 'banana', 'grape')\n",
      "['red', 'blue']\n"
     ]
    }
   ],
   "source": [
    "# Português / Portuguese\n",
    "frutas_lista = [\"maçã\", \"banana\", \"uva\"]\n",
    "frutas_tupla = tuple(frutas_lista)\n",
    "print(frutas_tupla)\n",
    "\n",
    "cores_tupla = (\"vermelho\", \"azul\")\n",
    "cores_lista = list(cores_tupla)\n",
    "print(cores_lista)\n",
    "\n",
    "# English\n",
    "fruits_list = [\"apple\", \"banana\", \"grape\"]\n",
    "fruits_tuple = tuple(fruits_list)\n",
    "print(fruits_tuple)\n",
    "\n",
    "colors_tuple = (\"red\", \"blue\")\n",
    "colors_list = list(colors_tuple)\n",
    "print(colors_list)"
   ]
  }
 ],
 "metadata": {
  "kernelspec": {
   "display_name": "base",
   "language": "python",
   "name": "python3"
  },
  "language_info": {
   "codemirror_mode": {
    "name": "ipython",
    "version": 3
   },
   "file_extension": ".py",
   "mimetype": "text/x-python",
   "name": "python",
   "nbconvert_exporter": "python",
   "pygments_lexer": "ipython3",
   "version": "3.12.7"
  }
 },
 "nbformat": 4,
 "nbformat_minor": 2
}
